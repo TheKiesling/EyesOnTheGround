{
 "cells": [
  {
   "cell_type": "code",
   "execution_count": 1,
   "metadata": {},
   "outputs": [],
   "source": [
    "import numpy as np\n",
    "import pandas as pd\n",
    "from PIL import Image"
   ]
  },
  {
   "cell_type": "code",
   "execution_count": 3,
   "metadata": {},
   "outputs": [],
   "source": [
    "def resizeImg(path, size):\n",
    "    img = Image.open(path)\n",
    "\n",
    "    width, height = img.size\n",
    "    aspectRatio = width / height\n",
    "\n",
    "    if aspectRatio < 1:\n",
    "        nHeight = size\n",
    "        nWidth = int(size * aspectRatio)\n",
    "    else:\n",
    "        nWidth = size\n",
    "        nHeight = int(size / aspectRatio)\n",
    "\n",
    "    resizedImg = img.resize((nWidth, nHeight), Image.ANTIALIAS)\n",
    "\n",
    "    newImg = Image.new(\"RGB\", (size, size), (255, 255, 255))\n",
    "\n",
    "    xOffset = (size - nWidth) // 2\n",
    "    yOffset = (size - nHeight) // 2\n",
    "    newImg.paste(resizedImg, (xOffset, yOffset))\n",
    "\n",
    "    return newImg"
   ]
  }
 ],
 "metadata": {
  "kernelspec": {
   "display_name": "Python 3",
   "language": "python",
   "name": "python3"
  },
  "language_info": {
   "codemirror_mode": {
    "name": "ipython",
    "version": 3
   },
   "file_extension": ".py",
   "mimetype": "text/x-python",
   "name": "python",
   "nbconvert_exporter": "python",
   "pygments_lexer": "ipython3",
   "version": "3.10.2"
  }
 },
 "nbformat": 4,
 "nbformat_minor": 2
}
