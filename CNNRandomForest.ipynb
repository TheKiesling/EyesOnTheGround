{
 "cells": [
  {
   "cell_type": "markdown",
   "metadata": {},
   "source": [
    "## Preprocesamiento"
   ]
  },
  {
   "cell_type": "code",
   "execution_count": 2,
   "metadata": {},
   "outputs": [],
   "source": [
    "import pandas as pd\n",
    "from PIL import Image\n",
    "import numpy as np"
   ]
  },
  {
   "cell_type": "code",
   "execution_count": 3,
   "metadata": {},
   "outputs": [],
   "source": [
    "dataset = pd.read_csv('data/data.csv')"
   ]
  },
  {
   "cell_type": "code",
   "execution_count": 4,
   "metadata": {},
   "outputs": [],
   "source": [
    "numeric_features = ['extent']\n",
    "categorical_features = ['growth_stage', 'damage', 'season']"
   ]
  },
  {
   "cell_type": "code",
   "execution_count": 5,
   "metadata": {},
   "outputs": [],
   "source": [
    "from sklearn.compose import ColumnTransformer\n",
    "from sklearn.preprocessing import OneHotEncoder\n",
    "\n",
    "transformers_encoder_onehot = [\n",
    "    ('encoder', OneHotEncoder(), categorical_features)\n",
    "]\n",
    "column_transformer = ColumnTransformer(transformers_encoder_onehot, remainder='passthrough')"
   ]
  },
  {
   "cell_type": "code",
   "execution_count": 6,
   "metadata": {},
   "outputs": [],
   "source": [
    "dataset_encoded = column_transformer.fit_transform(dataset)\n",
    "dataset = pd.DataFrame(dataset_encoded, columns=column_transformer.get_feature_names_out())"
   ]
  },
  {
   "cell_type": "code",
   "execution_count": 7,
   "metadata": {},
   "outputs": [],
   "source": [
    "new_column_names = [col.replace('encoder__', '').replace('remainder__', '') for col in column_transformer.get_feature_names_out()]\n",
    "dataset.columns = new_column_names"
   ]
  },
  {
   "cell_type": "code",
   "execution_count": 8,
   "metadata": {},
   "outputs": [],
   "source": [
    "dataset = dataset.drop(columns=['ID'])"
   ]
  },
  {
   "cell_type": "code",
   "execution_count": 9,
   "metadata": {},
   "outputs": [
    {
     "data": {
      "text/html": [
       "<div>\n",
       "<style scoped>\n",
       "    .dataframe tbody tr th:only-of-type {\n",
       "        vertical-align: middle;\n",
       "    }\n",
       "\n",
       "    .dataframe tbody tr th {\n",
       "        vertical-align: top;\n",
       "    }\n",
       "\n",
       "    .dataframe thead th {\n",
       "        text-align: right;\n",
       "    }\n",
       "</style>\n",
       "<table border=\"1\" class=\"dataframe\">\n",
       "  <thead>\n",
       "    <tr style=\"text-align: right;\">\n",
       "      <th></th>\n",
       "      <th>growth_stage_F</th>\n",
       "      <th>growth_stage_M</th>\n",
       "      <th>growth_stage_S</th>\n",
       "      <th>growth_stage_V</th>\n",
       "      <th>damage_DR</th>\n",
       "      <th>damage_DS</th>\n",
       "      <th>damage_FD</th>\n",
       "      <th>damage_G</th>\n",
       "      <th>damage_ND</th>\n",
       "      <th>damage_PS</th>\n",
       "      <th>damage_WD</th>\n",
       "      <th>damage_WN</th>\n",
       "      <th>season_LR2020</th>\n",
       "      <th>season_LR2021</th>\n",
       "      <th>season_SR2020</th>\n",
       "      <th>season_SR2021</th>\n",
       "      <th>filename</th>\n",
       "      <th>extent</th>\n",
       "    </tr>\n",
       "  </thead>\n",
       "  <tbody>\n",
       "    <tr>\n",
       "      <th>0</th>\n",
       "      <td>0.0</td>\n",
       "      <td>0.0</td>\n",
       "      <td>1.0</td>\n",
       "      <td>0.0</td>\n",
       "      <td>0.0</td>\n",
       "      <td>0.0</td>\n",
       "      <td>0.0</td>\n",
       "      <td>0.0</td>\n",
       "      <td>0.0</td>\n",
       "      <td>0.0</td>\n",
       "      <td>1.0</td>\n",
       "      <td>0.0</td>\n",
       "      <td>0.0</td>\n",
       "      <td>0.0</td>\n",
       "      <td>1.0</td>\n",
       "      <td>0.0</td>\n",
       "      <td>L427F01330C01S03961Rp02052.jpg</td>\n",
       "      <td>0</td>\n",
       "    </tr>\n",
       "    <tr>\n",
       "      <th>1</th>\n",
       "      <td>0.0</td>\n",
       "      <td>0.0</td>\n",
       "      <td>0.0</td>\n",
       "      <td>1.0</td>\n",
       "      <td>0.0</td>\n",
       "      <td>0.0</td>\n",
       "      <td>0.0</td>\n",
       "      <td>1.0</td>\n",
       "      <td>0.0</td>\n",
       "      <td>0.0</td>\n",
       "      <td>0.0</td>\n",
       "      <td>0.0</td>\n",
       "      <td>0.0</td>\n",
       "      <td>0.0</td>\n",
       "      <td>0.0</td>\n",
       "      <td>1.0</td>\n",
       "      <td>L1083F00930C39S12674Ip.jpg</td>\n",
       "      <td>0</td>\n",
       "    </tr>\n",
       "    <tr>\n",
       "      <th>2</th>\n",
       "      <td>0.0</td>\n",
       "      <td>0.0</td>\n",
       "      <td>0.0</td>\n",
       "      <td>1.0</td>\n",
       "      <td>0.0</td>\n",
       "      <td>0.0</td>\n",
       "      <td>0.0</td>\n",
       "      <td>1.0</td>\n",
       "      <td>0.0</td>\n",
       "      <td>0.0</td>\n",
       "      <td>0.0</td>\n",
       "      <td>0.0</td>\n",
       "      <td>1.0</td>\n",
       "      <td>0.0</td>\n",
       "      <td>0.0</td>\n",
       "      <td>0.0</td>\n",
       "      <td>24_initial_1_1463_1463.JPG</td>\n",
       "      <td>0</td>\n",
       "    </tr>\n",
       "    <tr>\n",
       "      <th>3</th>\n",
       "      <td>0.0</td>\n",
       "      <td>1.0</td>\n",
       "      <td>0.0</td>\n",
       "      <td>0.0</td>\n",
       "      <td>1.0</td>\n",
       "      <td>0.0</td>\n",
       "      <td>0.0</td>\n",
       "      <td>0.0</td>\n",
       "      <td>0.0</td>\n",
       "      <td>0.0</td>\n",
       "      <td>0.0</td>\n",
       "      <td>0.0</td>\n",
       "      <td>0.0</td>\n",
       "      <td>0.0</td>\n",
       "      <td>1.0</td>\n",
       "      <td>0.0</td>\n",
       "      <td>L341F00167C01S00324Rp14178.jpg</td>\n",
       "      <td>60</td>\n",
       "    </tr>\n",
       "    <tr>\n",
       "      <th>4</th>\n",
       "      <td>0.0</td>\n",
       "      <td>0.0</td>\n",
       "      <td>0.0</td>\n",
       "      <td>1.0</td>\n",
       "      <td>0.0</td>\n",
       "      <td>0.0</td>\n",
       "      <td>0.0</td>\n",
       "      <td>1.0</td>\n",
       "      <td>0.0</td>\n",
       "      <td>0.0</td>\n",
       "      <td>0.0</td>\n",
       "      <td>0.0</td>\n",
       "      <td>0.0</td>\n",
       "      <td>0.0</td>\n",
       "      <td>0.0</td>\n",
       "      <td>1.0</td>\n",
       "      <td>L1084F02394C39S13931Ip.jpg</td>\n",
       "      <td>0</td>\n",
       "    </tr>\n",
       "  </tbody>\n",
       "</table>\n",
       "</div>"
      ],
      "text/plain": [
       "  growth_stage_F growth_stage_M growth_stage_S growth_stage_V damage_DR  \\\n",
       "0            0.0            0.0            1.0            0.0       0.0   \n",
       "1            0.0            0.0            0.0            1.0       0.0   \n",
       "2            0.0            0.0            0.0            1.0       0.0   \n",
       "3            0.0            1.0            0.0            0.0       1.0   \n",
       "4            0.0            0.0            0.0            1.0       0.0   \n",
       "\n",
       "  damage_DS damage_FD damage_G damage_ND damage_PS damage_WD damage_WN  \\\n",
       "0       0.0       0.0      0.0       0.0       0.0       1.0       0.0   \n",
       "1       0.0       0.0      1.0       0.0       0.0       0.0       0.0   \n",
       "2       0.0       0.0      1.0       0.0       0.0       0.0       0.0   \n",
       "3       0.0       0.0      0.0       0.0       0.0       0.0       0.0   \n",
       "4       0.0       0.0      1.0       0.0       0.0       0.0       0.0   \n",
       "\n",
       "  season_LR2020 season_LR2021 season_SR2020 season_SR2021  \\\n",
       "0           0.0           0.0           1.0           0.0   \n",
       "1           0.0           0.0           0.0           1.0   \n",
       "2           1.0           0.0           0.0           0.0   \n",
       "3           0.0           0.0           1.0           0.0   \n",
       "4           0.0           0.0           0.0           1.0   \n",
       "\n",
       "                         filename extent  \n",
       "0  L427F01330C01S03961Rp02052.jpg      0  \n",
       "1      L1083F00930C39S12674Ip.jpg      0  \n",
       "2      24_initial_1_1463_1463.JPG      0  \n",
       "3  L341F00167C01S00324Rp14178.jpg     60  \n",
       "4      L1084F02394C39S13931Ip.jpg      0  "
      ]
     },
     "execution_count": 9,
     "metadata": {},
     "output_type": "execute_result"
    }
   ],
   "source": [
    "dataset.head()"
   ]
  },
  {
   "cell_type": "code",
   "execution_count": 10,
   "metadata": {},
   "outputs": [],
   "source": [
    "def resizeImg(path, size):\n",
    "    img = Image.open(path)\n",
    "\n",
    "    width, height = img.size\n",
    "    aspectRatio = width / height\n",
    "\n",
    "    if aspectRatio < 1:\n",
    "        nHeight = size\n",
    "        nWidth = int(size * aspectRatio)\n",
    "    else:\n",
    "        nWidth = size\n",
    "        nHeight = int(size / aspectRatio)\n",
    "\n",
    "    resizedImg = img.resize((nWidth, nHeight), Image.LANCZOS)\n",
    "\n",
    "    newImg = Image.new(\"RGB\", (size, size), (255, 255, 255))\n",
    "\n",
    "    xOffset = (size - nWidth) // 2\n",
    "    yOffset = (size - nHeight) // 2\n",
    "    newImg.paste(resizedImg, (xOffset, yOffset))\n",
    "\n",
    "    return newImg"
   ]
  },
  {
   "cell_type": "code",
   "execution_count": 11,
   "metadata": {},
   "outputs": [
    {
     "name": "stderr",
     "output_type": "stream",
     "text": [
      "100%|██████████| 26068/26068 [16:31<00:00, 26.29it/s] \n"
     ]
    }
   ],
   "source": [
    "import os\n",
    "from tqdm import tqdm\n",
    "\n",
    "# Ruta donde se encuentran las imágenes\n",
    "image_path = \"data/train/\"\n",
    "image_size = 128\n",
    "output_file = \"resized_images.npy\"\n",
    "\n",
    "def load_and_resize_images(df, path, size):\n",
    "    images = []\n",
    "    for filename in tqdm(df['filename']):\n",
    "        img = resizeImg(os.path.join(path, filename), size)\n",
    "        img_array = np.array(img) / 255.0\n",
    "        images.append(img_array)\n",
    "    return np.array(images)\n",
    "\n",
    "# Verificar si ya existe el archivo .npy\n",
    "if not os.path.exists(output_file):\n",
    "    images = load_and_resize_images(dataset, image_path, image_size)\n",
    "    np.save(output_file, images)  # Guardar el archivo .npy\n",
    "else:\n",
    "    images = np.load(output_file)  # Cargar el archivo .npy\n"
   ]
  },
  {
   "cell_type": "markdown",
   "metadata": {},
   "source": [
    "## CNN"
   ]
  },
  {
   "cell_type": "code",
   "execution_count": 12,
   "metadata": {},
   "outputs": [
    {
     "name": "stdout",
     "output_type": "stream",
     "text": [
      "Downloading data from https://storage.googleapis.com/tensorflow/keras-applications/vgg16/vgg16_weights_tf_dim_ordering_tf_kernels_notop.h5\n",
      "\u001b[1m58889256/58889256\u001b[0m \u001b[32m━━━━━━━━━━━━━━━━━━━━\u001b[0m\u001b[37m\u001b[0m \u001b[1m11s\u001b[0m 0us/step\n",
      "\u001b[1m815/815\u001b[0m \u001b[32m━━━━━━━━━━━━━━━━━━━━\u001b[0m\u001b[37m\u001b[0m \u001b[1m1581s\u001b[0m 2s/step\n"
     ]
    }
   ],
   "source": [
    "import tensorflow as tf\n",
    "from tensorflow.keras.applications import VGG16\n",
    "from tensorflow.keras.models import Model\n",
    "\n",
    "# Cargar el modelo preentrenado VGG16\n",
    "base_model = VGG16(weights='imagenet', include_top=False, input_shape=(image_size, image_size, 3))\n",
    "# Extraer las características de la última capa convolucional\n",
    "model = Model(inputs=base_model.input, outputs=base_model.layers[-1].output)\n",
    "\n",
    "# Extraer características\n",
    "features = model.predict(images)\n",
    "# Aplanar las características para usarlas en Random Forest\n",
    "features_flat = features.reshape(len(features), -1)"
   ]
  },
  {
   "cell_type": "code",
   "execution_count": 14,
   "metadata": {},
   "outputs": [],
   "source": [
    "# Convertir las características a un DataFrame y unir con el dataset original\n",
    "features_df = pd.DataFrame(features_flat)\n",
    "df_features = pd.concat([dataset.reset_index(drop=True), features_df], axis=1)\n",
    "df_features.drop(columns=[\"filename\"], inplace=True)  # Retirar la columna 'filename' ya que ahora tenemos las features"
   ]
  },
  {
   "cell_type": "code",
   "execution_count": 26,
   "metadata": {},
   "outputs": [],
   "source": [
    "# Guardar el DataFrame completo con las características y etiquetas\n",
    "df_features.to_csv(\"final_dataset.csv\", index=False)"
   ]
  },
  {
   "cell_type": "markdown",
   "metadata": {},
   "source": [
    "## Random Forest"
   ]
  },
  {
   "cell_type": "code",
   "execution_count": 16,
   "metadata": {},
   "outputs": [
    {
     "name": "stdout",
     "output_type": "stream",
     "text": [
      "RMSE: 8.726778820651981\n"
     ]
    },
    {
     "name": "stderr",
     "output_type": "stream",
     "text": [
      "c:\\Users\\Pablo Zamora\\AppData\\Local\\Programs\\Python\\Python311\\Lib\\site-packages\\sklearn\\metrics\\_regression.py:483: FutureWarning: 'squared' is deprecated in version 1.4 and will be removed in 1.6. To calculate the root mean squared error, use the function'root_mean_squared_error'.\n",
      "  warnings.warn(\n"
     ]
    }
   ],
   "source": [
    "from sklearn.model_selection import train_test_split\n",
    "from sklearn.ensemble import RandomForestRegressor\n",
    "from sklearn.metrics import mean_squared_error\n",
    "\n",
    "# Dividir datos\n",
    "X = df_features.drop(columns=[\"extent\"])\n",
    "y = df_features[\"extent\"]\n",
    "\n",
    "# Convertir nombres de columnas a tipo string\n",
    "X.columns = X.columns.astype(str)\n",
    "\n",
    "X_train, X_test, y_train, y_test = train_test_split(X, y, test_size=0.2, random_state=42)\n",
    "\n",
    "# Entrenar el modelo Random Forest\n",
    "model_rf = RandomForestRegressor(n_estimators=100, random_state=42)\n",
    "model_rf.fit(X_train, y_train)\n",
    "\n",
    "# Evaluar el modelo\n",
    "y_pred = model_rf.predict(X_test)\n",
    "rmse = mean_squared_error(y_test, y_pred, squared=False)\n",
    "print(f\"RMSE: {rmse}\")"
   ]
  },
  {
   "cell_type": "code",
   "execution_count": 17,
   "metadata": {},
   "outputs": [
    {
     "name": "stdout",
     "output_type": "stream",
     "text": [
      "RMSE: 8.726778820651981\n",
      "R²: 0.7901191755276311\n"
     ]
    },
    {
     "name": "stderr",
     "output_type": "stream",
     "text": [
      "c:\\Users\\Pablo Zamora\\AppData\\Local\\Programs\\Python\\Python311\\Lib\\site-packages\\sklearn\\metrics\\_regression.py:483: FutureWarning: 'squared' is deprecated in version 1.4 and will be removed in 1.6. To calculate the root mean squared error, use the function'root_mean_squared_error'.\n",
      "  warnings.warn(\n"
     ]
    }
   ],
   "source": [
    "from sklearn.metrics import mean_squared_error, r2_score\n",
    "\n",
    "# Evaluar el modelo\n",
    "y_pred = model_rf.predict(X_test)\n",
    "\n",
    "# Calcular RMSE\n",
    "rmse = mean_squared_error(y_test, y_pred, squared=False)\n",
    "print(f\"RMSE: {rmse}\")\n",
    "\n",
    "# Calcular R²\n",
    "r2 = r2_score(y_test, y_pred)\n",
    "print(f\"R²: {r2}\")"
   ]
  },
  {
   "cell_type": "code",
   "execution_count": 25,
   "metadata": {},
   "outputs": [
    {
     "name": "stdout",
     "output_type": "stream",
     "text": [
      "\n",
      "Valor real para el ejemplo: 30\n",
      "Predicción para el ejemplo: 34.0\n"
     ]
    },
    {
     "name": "stderr",
     "output_type": "stream",
     "text": [
      "c:\\Users\\Pablo Zamora\\AppData\\Local\\Programs\\Python\\Python311\\Lib\\site-packages\\sklearn\\base.py:493: UserWarning: X does not have valid feature names, but RandomForestRegressor was fitted with feature names\n",
      "  warnings.warn(\n"
     ]
    }
   ],
   "source": [
    "# Visualizando el primer registro del conjunto de prueba\n",
    "single_example = X_test.iloc[0].values.reshape(1, -1)  # Redimensionar para que sea un array de 2D\n",
    "\n",
    "# Hacer la predicción\n",
    "single_prediction = model_rf.predict(single_example)\n",
    "\n",
    "print(f\"\\nValor real para el ejemplo: {y_test.iloc[0]}\")\n",
    "print(f\"Predicción para el ejemplo: {single_prediction[0]}\")"
   ]
  },
  {
   "cell_type": "code",
   "execution_count": 27,
   "metadata": {},
   "outputs": [
    {
     "data": {
      "text/plain": [
       "['CNN_RandomForest/random_forest_model.pkl']"
      ]
     },
     "execution_count": 27,
     "metadata": {},
     "output_type": "execute_result"
    }
   ],
   "source": [
    "import joblib\n",
    "\n",
    "# Guardar el modelo entrenado\n",
    "joblib.dump(model_rf, \"CNN_RandomForest/random_forest_model.pkl\")"
   ]
  }
 ],
 "metadata": {
  "kernelspec": {
   "display_name": "Python 3",
   "language": "python",
   "name": "python3"
  },
  "language_info": {
   "codemirror_mode": {
    "name": "ipython",
    "version": 3
   },
   "file_extension": ".py",
   "mimetype": "text/x-python",
   "name": "python",
   "nbconvert_exporter": "python",
   "pygments_lexer": "ipython3",
   "version": "3.11.7"
  }
 },
 "nbformat": 4,
 "nbformat_minor": 2
}
